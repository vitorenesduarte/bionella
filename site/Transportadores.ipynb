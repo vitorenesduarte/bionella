{
 "cells": [
  {
   "cell_type": "markdown",
   "metadata": {},
   "source": [
    "# Transportadores\n"
   ]
  },
  {
   "cell_type": "markdown",
   "metadata": {},
   "source": [
    "# Fatores de Transcrição"
   ]
  },
  {
   "cell_type": "markdown",
   "metadata": {},
   "source": [
    "|__Locus_tag__|__Protein_id__|__Family Name__|__Family__|__Regions__|__e-value__|__Domain Arquitecture__|__Family Name__|__Family__|__Regions__|__Evalue__|__Domain Arquitecture__|\t\t\n",
    "|------|------|------|------|------|------|------||------|------|------|------|------|------|\n",
    "|lpg0232|YP_094286.1|\"Winged helix\" DNA-binding domain|46785|36-169|7.4e-27|<img src=\"img/1.png\" width=\"300\" alt=\"1\"/> |No hits|No hits|No hits|No hits|No hits|\n",
    "|lpg0274|YP_094328.1|\"Winged helix\" DNA-binding domain; Periplasmic binding protein-like II|46785; 53850|1-106; 87-287|6.3e-20; 1.3e-33|<img src=\"img/2.png\" width=\"300\" alt=\"2\"/> |Bacterial regulatory helix-turn-helix protein lysR family; LysR substrate binding domain|HTH1; LysR substrate|4-63; 87-287|1.0e-18; 1.4e-34|<img src=\"img/4.png\" width=\"300\" alt=\"4\"/>|\n",
    "|lpg0280|YP_094334.1|\"Winged helix\" DNA-binding domain; Periplasmic binding protein-like II|46785; 53850|1-104; 85-288|1.4e-19; 2.1e-35|<img src=\"img/3.png\" width=\"300\" alt=\"3\"/> |Bacterial regulatory helix-turn-helix protein, lysR family;LysR substrate binding domain|HTH1; LysR substrate|3-62; 85-290|1.7e-18; 3.4e-27|<img src=\"img/5.png\" width=\"300\" alt=\"5\"/>|\n",
    "|lpg0423|YP_094467.1|No Hits|No Hits|No Hits|No Hits|No Hits|Helix-Turn-Helix|HTH-3|7-62|9.0e-6|<img src=\"img/6.png\" width=\"300\" alt=\"6\"/>|\n",
    "|lpg0426|YP_094470.1|Nucleic acid-binding proteins|50249|1-67|3.6e-21|<img src=\"img/9.png\" width=\"300\" alt=\"9\"/>|\"Cold-shock\" DNA-binding domain|CSD|1-67|2.1e-34|<img src=\"img/7.png\" width=\"300\" alt=\"7\"/>|\n",
    "|lpg0433|YP_094477.1|\"Winged helix\" DNA-binding domain|46785|11-108|1.9e-12|<img src=\"img/10.png\" width=\"300\" alt=\"10\"/>|HxIR-like helix-turn-helix|DUF24|21-111|2.8e-26|<img src=\"img/8.png\" width=\"300\" alt=\"8\"/>|\n",
    "\n",
    "\n",
    "\n"
   ]
  },
  {
   "cell_type": "markdown",
   "metadata": {
    "collapsed": true
   },
   "source": []
  },
  {
   "cell_type": "markdown",
   "metadata": {},
   "source": []
  },
  {
   "cell_type": "markdown",
   "metadata": {},
   "source": []
  }
 ],
 "metadata": {
  "anaconda-cloud": {},
  "kernelspec": {
   "display_name": "Python [conda root]",
   "language": "python",
   "name": "conda-root-py"
  },
  "language_info": {
   "codemirror_mode": {
    "name": "ipython",
    "version": 3
   },
   "file_extension": ".py",
   "mimetype": "text/x-python",
   "name": "python",
   "nbconvert_exporter": "python",
   "pygments_lexer": "ipython3",
   "version": "3.5.2"
  }
 },
 "nbformat": 4,
 "nbformat_minor": 0
}
