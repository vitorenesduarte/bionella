{
 "cells": [
  {
   "cell_type": "markdown",
   "metadata": {},
   "source": [
    "# Alinhamentos Múltiplos e Árvores Filogenéticas"
   ]
  },
  {
   "cell_type": "markdown",
   "metadata": {},
   "source": [
    "O alinhamento múltiplo consiste no alinhamento de 3 ou mais sequências de DNA, RNA ou proteínas. Por norma, as sequências relacionam-se evolutivamente, partilhando uma linhagem e um ancestral comum. A partir do alinhamento torna-se possível inferir a homlogia entre as várias sequências e proceder com uma análise filogenética, por forma a identificar situações de evolução distintas ou semelhantes entre genes.  \n",
    "\n",
    "\n",
    "Neste trabalho, escolhemos 4 proteínas hipotéticas, que fazem parte da zona do genoma em estudo, para analisar por alinhamento múltiplo e árvores filogenéticas. O alinhamento foi feito apenas com o top 10 dos resultados do blast, que correspondem às proteínas com maior homologia relativamente à proteína em estudo. Estas proteínas foram escolhidas tendo em conta os seguintes critérios:\n",
    "\n",
    "- __Não possuem função conhecida__;\n",
    "\n",
    "- __Os resultados do blast consistem em algumas proteinas com função conhecida e outras não__;\n",
    "\n",
    "- __Identificamos (apenas para três das selecionadas) o nome, accession number e descricao dos domínios que possuem.\n"
   ]
  },
  {
   "cell_type": "markdown",
   "metadata": {
    "collapsed": false
   },
   "source": []
  },
  {
   "cell_type": "markdown",
   "metadata": {},
   "source": []
  },
  {
   "cell_type": "markdown",
   "metadata": {},
   "source": [
    "![Metabolismo](img/ViaMetabolica.png)\n",
    "__Figura1 - __ Rede Metabólica da *Legionella Pneumophila susbp. pneumophila str. Philadelphia 1*."
   ]
  },
  {
   "cell_type": "markdown",
   "metadata": {
    "collapsed": true
   },
   "source": []
  }
 ],
 "metadata": {
  "anaconda-cloud": {},
  "kernelspec": {
   "display_name": "Python [conda root]",
   "language": "python",
   "name": "conda-root-py"
  },
  "language_info": {
   "codemirror_mode": {
    "name": "ipython",
    "version": 3
   },
   "file_extension": ".py",
   "mimetype": "text/x-python",
   "name": "python",
   "nbconvert_exporter": "python",
   "pygments_lexer": "ipython3",
   "version": "3.5.2"
  }
 },
 "nbformat": 4,
 "nbformat_minor": 0
}
