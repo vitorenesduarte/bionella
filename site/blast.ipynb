{
 "cells": [
  {
   "cell_type": "markdown",
   "metadata": {},
   "source": [
    "## Análise de homologias por BLAST\n",
    "\n",
    "1. [local_blastp(tag_to_files, db)](#local)\n",
    "2. [docker_blastp(directory, db)](#docker)\n",
    "3. [expasy_blastp(tag_to_files)](#expasy)\n",
    "4. [blastp(tags_and_proteins, db, type)](#blast)\n",
    "\n",
    "O objectivo desta fase era, dada as proteínas que retirámos do ficheiro genbank, procurar sequências homólogas com BLAST. Esta fase foi iterada várias vezes à procura da melhor estratégia, e no final acabámos com várias alternativas para a execução do BLAST, que podem ser encontradas no módulo [`util.blast`](https://github.com/vitorenesduarte/bionella/blob/master/util/blast.py).\n",
    "\n",
    "- __Local__\n",
    "- __Docker__\n",
    "- __ExPASy__"
   ]
  },
  {
   "cell_type": "markdown",
   "metadata": {},
   "source": [
    "<a name=\"local\"></a>\n",
    "### Local\n",
    "\n",
    "Esta função assume que o BLAST está instalado localmente, e recebe como parâmetro qual a base de dados que deve usar. O primeiro argumento desta função `tag_to_files` é uma lista de pares em que a primeira componente é o ficheiro onde se encontra a sequência de aminoácidos para ser usada na query, e a segunda componente é o ficheiro onde deve ser guardado o resultado do BLAST.\n",
    "\n",
    "```python\n",
    "def local_blastp(tag_to_files, db):\n",
    "    \"\"\"\n",
    "    Corre o blast localmente.\n",
    "    \"\"\"\n",
    "\n",
    "    for tag in tag_to_files:\n",
    "        (in_file, out_file) = tag_to_files[tag]\n",
    "    \n",
    "        blastp_cline = NcbiblastpCommandline(\n",
    "            query=in_file,\n",
    "            db=db,\n",
    "            evalue=10,\n",
    "            outfmt=5,\n",
    "            out=out_file\n",
    "        )\n",
    "        blastp_cline()\n",
    "```"
   ]
  },
  {
   "cell_type": "markdown",
   "metadata": {},
   "source": [
    "<a name=\"docker\"></a>\n",
    "### Docker\n",
    "\n",
    "Para evitar a instalação de BLAST, download de bases de dados e sua adição como base de dados para ser usada pelo BLAST, criámos uma imagem __Docker__ com a base de dados __UniProtKB - Swiss-Prot__ [retirada do site da UniProt](http://www.uniprot.org/downloads). Mais informação sobre esta imagem pode ser encontrada [aqui](docker.html).\n",
    "\n",
    "```python\n",
    "def docker_blastp(directory, db):\n",
    "    \"\"\"\n",
    "    Corre o blast numa instância docker.\n",
    "    \"\"\"\n",
    "    cmd = \"docker run -e QUERY_DIR=\" + directory \\\n",
    "                  + \" -e DB=\" + db \\\n",
    "                  + \" -v $PWD/\" + directory + \":/\" + directory \\\n",
    "                  + \" -ti vitorenesduarte/swissprot_blast\"\n",
    "\n",
    "    p = subprocess.Popen(cmd, shell=True, stdout=subprocess.PIPE, stderr=subprocess.STDOUT)\n",
    "    p.wait()\n",
    "```"
   ]
  },
  {
   "cell_type": "markdown",
   "metadata": {},
   "source": [
    "<a name=\"expasy\"></a>\n",
    "### ExPASy\n",
    "\n",
    "A terceira opção não corre o BLAST localmente, mas utiliza o serviço disponibilizado pelo site ExPASy.\n",
    "\n",
    "```python\n",
    "def expasy_blastp(tag_to_files):\n",
    "    \"\"\"\n",
    "    Corre o blast na expasy.\n",
    "    \"\"\"\n",
    "    for tag in tag_to_files:\n",
    "        (in_file, out_file) = tag_to_files[tag]\n",
    "        query = rw.read_file(in_file)\n",
    "        blast_result = www.expasy_blast(query)\n",
    "        rw.write_file(blast_result, out_file)\n",
    "```\n",
    "\n",
    "Esta função usa uma outra função definida no módulo [`util.www`](https://github.com/vitorenesduarte/bionella/blob/master/util/www.py) que corre o BLAST contra a base de dados __UniProtKB = Swiss-Prot + TrEMBL__.\n",
    "\n",
    "```python\n",
    "def expasy_blast(query):\n",
    "    \"\"\"\n",
    "    Corre o blast na expasy.\n",
    "    \"\"\"\n",
    "\n",
    "    url = \"http://web.expasy.org/cgi-bin/blast/blast.pl\"\n",
    "    data = {\n",
    "        \"format\": \"xml\",\n",
    "        \"prot_db1\": \"UniProtKB\",\n",
    "        \"matrix\": \"BLOSUM62\",\n",
    "        \"showsc\": 50, # best scoring sequences\n",
    "        \"showal\": 50, # best alignments\n",
    "        \"seq\": query\n",
    "    }\n",
    "\n",
    "    response = requests.post(\n",
    "        url,\n",
    "        data=data\n",
    "    )\n",
    "\n",
    "    return response.text\n",
    "```\n",
    "\n",
    "Esta opção permitiu-nos encontrar sequências com maior homologia do que as que estávamos a encontrar ao usar apenas a __Swiss-Prot__ localmente."
   ]
  },
  {
   "cell_type": "markdown",
   "metadata": {},
   "source": [
    "<a name=\"blast\"></a>\n",
    "### BLAST\n",
    "\n",
    "A função que engloba estas três opções recebe como argumento uma lista de pares em que a primeira componente é a __locus_tag__ da proteína, e a segunda componente a respectiva sequência de aminoácidos. Recebe ainda qual o tipo de BLAST, __local__, __docker__ ou __expasy__ a utilizar.\n",
    "\n",
    "```python\n",
    "def blastp(tags_and_proteins, db, type=\"local\"):\n",
    "    \"\"\"\n",
    "    Corre o blast para a proteínas passadas como argumento,\n",
    "    contra a base de dados também passada como argumento.\n",
    "\n",
    "    O argumento type é opcional e pode ter dois valores:\n",
    "        - local\n",
    "        - docker\n",
    "        - expasy\n",
    "\n",
    "    É retornado um dicionário com os resultados.\n",
    "    \"\"\"\n",
    "\n",
    "    directory = \".query_dir\"\n",
    "    tag_to_files = write_queries_to_dir(tags_and_proteins, directory)\n",
    "\n",
    "    # correr o blast\n",
    "    if type == \"local\":\n",
    "        local_blastp(tag_to_files, db)\n",
    "    elif type == \"docker\":\n",
    "        docker_blastp(directory, db)\n",
    "    elif type == \"expasy\":\n",
    "        expasy_blastp(tag_to_files)\n",
    "    else:\n",
    "        raise Exception(\"Unsupported type: \" + type)\n",
    "\n",
    "    blast_results = extract_blast_info(tag_to_files, type)\n",
    "    return blast_results\n",
    "```"
   ]
  },
  {
   "cell_type": "markdown",
   "metadata": {},
   "source": []
  },
  {
   "cell_type": "markdown",
   "metadata": {},
   "source": []
  },
  {
   "cell_type": "markdown",
   "metadata": {},
   "source": []
  },
  {
   "cell_type": "markdown",
   "metadata": {},
   "source": []
  },
  {
   "cell_type": "markdown",
   "metadata": {},
   "source": []
  },
  {
   "cell_type": "markdown",
   "metadata": {},
   "source": []
  }
 ],
 "metadata": {
  "anaconda-cloud": {},
  "kernelspec": {
   "display_name": "Python [conda root]",
   "language": "python",
   "name": "conda-root-py"
  },
  "language_info": {
   "codemirror_mode": {
    "name": "ipython",
    "version": 3
   },
   "file_extension": ".py",
   "mimetype": "text/x-python",
   "name": "python",
   "nbconvert_exporter": "python",
   "pygments_lexer": "ipython3",
   "version": "3.5.2"
  }
 },
 "nbformat": 4,
 "nbformat_minor": 0
}
