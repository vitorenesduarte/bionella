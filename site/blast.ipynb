{
 "cells": [
  {
   "cell_type": "markdown",
   "metadata": {},
   "source": [
    "## Análise de homologias por BLAST\n",
    "\n",
    "1. [util.www.fetch_genbank(start, end)](#fetch_genbank)\n",
    "\n",
    "O objectivo desta fase era, dada as proteínas que retirámos do ficheiro genbank, procurar sequências homólogas com BLAST. Esta fase foi iterada várias vezes à procura da melhor estratégia, e no final acabámos com várias alternativas para a execução do BLAST.\n",
    "\n",
    "- __Local__\n",
    "- __Docker__\n",
    "- __ExPASy__\n",
    "\n",
    "### Local\n",
    "\n",
    "### Docker\n",
    "\n",
    "### ExPASy\n",
    "\n",
    "<a name=\"fetch_genbank\"></a>\n",
    "\n"
   ]
  },
  {
   "cell_type": "code",
   "execution_count": null,
   "metadata": {
    "collapsed": true
   },
   "outputs": [],
   "source": []
  }
 ],
 "metadata": {
  "anaconda-cloud": {},
  "kernelspec": {
   "display_name": "Python [conda root]",
   "language": "python",
   "name": "conda-root-py"
  },
  "language_info": {
   "codemirror_mode": {
    "name": "ipython",
    "version": 3
   },
   "file_extension": ".py",
   "mimetype": "text/x-python",
   "name": "python",
   "nbconvert_exporter": "python",
   "pygments_lexer": "ipython3",
   "version": "3.5.2"
  }
 },
 "nbformat": 4,
 "nbformat_minor": 0
}
