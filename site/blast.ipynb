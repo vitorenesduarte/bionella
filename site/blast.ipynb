{
 "cells": [
  {
   "cell_type": "markdown",
   "metadata": {},
   "source": [
    "## Análise de homologias por BLAST\n",
    "\n",
    "1. [local_blastp(tag_to_files, db)](#local)\n",
    "2. [docker_blastp(directory, db)](#docker)\n",
    "3. [expasy_blastp(tag_to_files)](#expasy)\n",
    "4. [blastp(tags_and_proteins, db, type)](#blast)\n",
    "\n",
    "O objectivo desta fase era, dada as proteínas que retirámos do ficheiro genbank, procurar sequências homólogas com BLAST. Esta fase foi iterada várias vezes à procura da melhor estratégia, e no final acabámos com várias alternativas para a execução do BLAST, que podem ser encontradas no módulo [`util.blast`](https://github.com/vitorenesduarte/bionella/blob/master/util/blast.py).\n",
    "\n",
    "- __Local__\n",
    "- __Docker__\n",
    "- __ExPASy__"
   ]
  },
  {
   "cell_type": "markdown",
   "metadata": {},
   "source": [
    "<a name=\"local\"></a>\n",
    "### Local\n",
    "\n",
    "```python\n",
    "def local_blastp(tag_to_files, db):\n",
    "    \"\"\"\n",
    "    Corre o blast localmente.\n",
    "    \"\"\"\n",
    "\n",
    "    for tag in tag_to_files:\n",
    "        (in_file, out_file) = tag_to_files[tag]\n",
    "    \n",
    "        blastp_cline = NcbiblastpCommandline(\n",
    "            query=in_file,\n",
    "            db=db,\n",
    "            evalue=10,\n",
    "            outfmt=5,\n",
    "            out=out_file\n",
    "        )\n",
    "        blastp_cline()\n",
    "```"
   ]
  },
  {
   "cell_type": "markdown",
   "metadata": {},
   "source": [
    "<a name=\"docker\"></a>\n",
    "### Docker\n",
    "\n",
    "```python\n",
    "def docker_blastp(directory, db):\n",
    "    \"\"\"\n",
    "    Corre o blast numa instância docker.\n",
    "    \"\"\"\n",
    "    cmd = \"docker run -e QUERY_DIR=\" + directory \\\n",
    "                  + \" -e DB=\" + db \\\n",
    "                  + \" -v $PWD/\" + directory + \":/\" + directory \\\n",
    "                  + \" -ti vitorenesduarte/swissprot_blast\"\n",
    "\n",
    "    p = subprocess.Popen(cmd, shell=True, stdout=subprocess.PIPE, stderr=subprocess.STDOUT)\n",
    "    p.wait()\n",
    "```"
   ]
  },
  {
   "cell_type": "markdown",
   "metadata": {},
   "source": [
    "<a name=\"expasy\"></a>\n",
    "### ExPASy\n",
    "\n",
    "```python\n",
    "def expasy_blastp(tag_to_files):\n",
    "    \"\"\"\n",
    "    Corre o blast na expasy.\n",
    "    \"\"\"\n",
    "    for tag in tag_to_files:\n",
    "        (in_file, out_file) = tag_to_files[tag]\n",
    "        query = rw.read_file(in_file)\n",
    "        blast_result = www.expasy_blast(query)\n",
    "        rw.write_file(blast_result, out_file)\n",
    "```\n"
   ]
  },
  {
   "cell_type": "markdown",
   "metadata": {},
   "source": [
    "<a name=\"blast\"></a>\n",
    "### BLAST\n",
    "\n",
    "```python\n",
    "def blastp(tags_and_proteins, db, type=\"local\"):\n",
    "    \"\"\"\n",
    "    Corre o blast para a proteínas passadas como argumento,\n",
    "    contra a base de dados também passada como argumento.\n",
    "\n",
    "    O argumento type é opcional e pode ter dois valores:\n",
    "        - local\n",
    "        - docker\n",
    "        - expasy\n",
    "\n",
    "    É retornado um dicionário com os resultados.\n",
    "    \"\"\"\n",
    "\n",
    "    directory = \".query_dir\"\n",
    "    tag_to_files = write_queries_to_dir(tags_and_proteins, directory)\n",
    "\n",
    "    # correr o blast\n",
    "    if type == \"local\":\n",
    "        local_blastp(tag_to_files, db)\n",
    "    elif type == \"docker\":\n",
    "        docker_blastp(directory, db)\n",
    "    elif type == \"expasy\":\n",
    "        expasy_blastp(tag_to_files)\n",
    "    else:\n",
    "        raise Exception(\"Unsupported type: \" + type)\n",
    "\n",
    "    blast_results = extract_blast_info(tag_to_files, type)\n",
    "    return blast_results\n",
    "```"
   ]
  },
  {
   "cell_type": "markdown",
   "metadata": {},
   "source": []
  },
  {
   "cell_type": "markdown",
   "metadata": {},
   "source": []
  },
  {
   "cell_type": "markdown",
   "metadata": {},
   "source": []
  },
  {
   "cell_type": "markdown",
   "metadata": {},
   "source": []
  },
  {
   "cell_type": "markdown",
   "metadata": {},
   "source": []
  },
  {
   "cell_type": "markdown",
   "metadata": {},
   "source": []
  }
 ],
 "metadata": {
  "anaconda-cloud": {},
  "kernelspec": {
   "display_name": "Python [conda root]",
   "language": "python",
   "name": "conda-root-py"
  },
  "language_info": {
   "codemirror_mode": {
    "name": "ipython",
    "version": 3
   },
   "file_extension": ".py",
   "mimetype": "text/x-python",
   "name": "python",
   "nbconvert_exporter": "python",
   "pygments_lexer": "ipython3",
   "version": "3.5.2"
  }
 },
 "nbformat": 4,
 "nbformat_minor": 0
}
