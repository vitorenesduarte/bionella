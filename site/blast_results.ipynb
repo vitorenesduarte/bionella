{
 "cells": [
  {
   "cell_type": "markdown",
   "metadata": {},
   "source": [
    "   ## Resultados do BLAST\n",
    "\n"
   ]
  },
  {
   "cell_type": "markdown",
   "metadata": {},
   "source": [
    "A partir dos resultados do blast obtidos para cada uma das nossas proteínas, é possível inferir a função de algumas por homologia. Contudo, a maior parte dos resultados com melhores valores de percentagem de identidade, *score* e e-value são entradas *unreviewed*, o que explica o facto de muitas das entradas não terem função associada. Esta inferência da função é especialmente importante no caso das proteínas hipotéticas, ou outras proteínas menos estudadas. Para uma outra conseguimos, portanto, inferir a sua função, como é o caso, por exemplo, da proteína hipotética com a locus tag lpg0235, a qual é possível que tenha a atividade de liase carbono-enxofre. Não podemos, no entanto, afirmar com 100% de certeza que esta proteína desempenha tal função, uma vez que, não só os resultados do blast são unreviewed, mas também porque tal facto ainda não foi comprovado experimentalmente. Para as proteínas mais estudadas, tanto neste organismo como noutros que possuem proteínas homólogas, os resultados do blast têm, mais frequentemente, as funções moleculares das respetivas proteínas descritas, sendo que as mesmas são iguais ao longo da tabela respetiva.\n",
    "\n",
    "\n",
    "Para além da função, consideramos pertinente retirar também o organismo a que cada proteína que obtivemos como resultado do blast pertence, por forma a auxiliar a construção posterior de árvores filogenéticas e, também, no mesmo sentido, percebermos em que organismos é que as proteínas em estudo possuem homólogas. Isto torna-se relevante, pois se verificamos que o organismo é mais próximo daquele em estudo, por exemplo uma estirpe diferente da mesma bactéria, a inferência da função é muito mais forte. "
   ]
  },
  {
   "cell_type": "code",
   "execution_count": 1,
   "metadata": {
    "collapsed": false
   },
   "outputs": [
    {
     "data": {
      "text/html": [
       "<div style=\"column-count:6\"><ul><li><a href=\"#lpg0232\"><strong>lpg0232</strong></a></li><li><a href=\"#lpg0233\"><strong>lpg0233</strong></a></li><li><a href=\"#lpg0234\"><strong>lpg0234</strong></a></li><li><a href=\"#lpg0235\"><strong>lpg0235</strong></a></li><li><a href=\"#lpg0236\"><strong>lpg0236</strong></a></li><li><a href=\"#lpg0237\"><strong>lpg0237</strong></a></li><li><a href=\"#lpg0238\"><strong>lpg0238</strong></a></li><li><a href=\"#lpg0239\"><strong>lpg0239</strong></a></li><li><a href=\"#lpg0240\"><strong>lpg0240</strong></a></li><li><a href=\"#lpg0241\"><strong>lpg0241</strong></a></li><li><a href=\"#lpg0242\"><strong>lpg0242</strong></a></li><li><a href=\"#lpg0243\"><strong>lpg0243</strong></a></li><li><a href=\"#lpg0244\"><strong>lpg0244</strong></a></li><li><a href=\"#lpg0245\"><strong>lpg0245</strong></a></li><li><a href=\"#lpg0246\"><strong>lpg0246</strong></a></li><li><a href=\"#lpg0247\"><strong>lpg0247</strong></a></li><li><a href=\"#lpg0248\"><strong>lpg0248</strong></a></li><li><a href=\"#lpg0249\"><strong>lpg0249</strong></a></li><li><a href=\"#lpg0250\"><strong>lpg0250</strong></a></li><li><a href=\"#lpg0251\"><strong>lpg0251</strong></a></li><li><a href=\"#lpg0252\"><strong>lpg0252</strong></a></li><li><a href=\"#lpg0253\"><strong>lpg0253</strong></a></li><li><a href=\"#lpg0254\"><strong>lpg0254</strong></a></li><li><a href=\"#lpg0255\"><strong>lpg0255</strong></a></li><li><a href=\"#lpg0256\"><strong>lpg0256</strong></a></li><li><a href=\"#lpg0257\"><strong>lpg0257</strong></a></li><li><a href=\"#lpg0258\"><strong>lpg0258</strong></a></li><li><a href=\"#lpg0259\"><strong>lpg0259</strong></a></li><li><a href=\"#lpg0260\"><strong>lpg0260</strong></a></li><li><a href=\"#lpg0261\"><strong>lpg0261</strong></a></li><li><a href=\"#lpg0262\"><strong>lpg0262</strong></a></li><li><a href=\"#lpg0263\"><strong>lpg0263</strong></a></li><li><a href=\"#lpg0264\"><strong>lpg0264</strong></a></li><li><a href=\"#lpg0265\"><strong>lpg0265</strong></a></li><li><a href=\"#lpg0266\"><strong>lpg0266</strong></a></li><li><a href=\"#lpg0267\"><strong>lpg0267</strong></a></li><li><a href=\"#lpg0268\"><strong>lpg0268</strong></a></li><li><a href=\"#lpg0269\"><strong>lpg0269</strong></a></li><li><a href=\"#lpg0270\"><strong>lpg0270</strong></a></li><li><a href=\"#lpg0271\"><strong>lpg0271</strong></a></li><li><a href=\"#lpg0272\"><strong>lpg0272</strong></a></li><li><a href=\"#lpg0273\"><strong>lpg0273</strong></a></li><li><a href=\"#lpg0274\"><strong>lpg0274</strong></a></li><li><a href=\"#lpg0275\"><strong>lpg0275</strong></a></li><li><a href=\"#lpg0276\"><strong>lpg0276</strong></a></li><li><a href=\"#lpg0277\"><strong>lpg0277</strong></a></li><li><a href=\"#lpg0278\"><strong>lpg0278</strong></a></li><li><a href=\"#lpg0279\"><strong>lpg0279</strong></a></li><li><a href=\"#lpg0280\"><strong>lpg0280</strong></a></li><li><a href=\"#lpg0281\"><strong>lpg0281</strong></a></li><li><a href=\"#lpg0282\"><strong>lpg0282</strong></a></li><li><a href=\"#lpg0283\"><strong>lpg0283</strong></a></li><li><a href=\"#lpg0284\"><strong>lpg0284</strong></a></li><li><a href=\"#lpg0285\"><strong>lpg0285</strong></a></li><li><a href=\"#lpg0286\"><strong>lpg0286</strong></a></li><li><a href=\"#lpg0287\"><strong>lpg0287</strong></a></li><li><a href=\"#lpg0288\"><strong>lpg0288</strong></a></li><li><a href=\"#lpg0289\"><strong>lpg0289</strong></a></li><li><a href=\"#lpg0290\"><strong>lpg0290</strong></a></li><li><a href=\"#lpg0291\"><strong>lpg0291</strong></a></li><li><a href=\"#lpg0292\"><strong>lpg0292</strong></a></li><li><a href=\"#lpg0293\"><strong>lpg0293</strong></a></li><li><a href=\"#lpg0294\"><strong>lpg0294</strong></a></li><li><a href=\"#lpg0295\"><strong>lpg0295</strong></a></li><li><a href=\"#lpg0296\"><strong>lpg0296</strong></a></li><li><a href=\"#lpg0297\"><strong>lpg0297</strong></a></li><li><a href=\"#lpg0298\"><strong>lpg0298</strong></a></li><li><a href=\"#lpg0299\"><strong>lpg0299</strong></a></li><li><a href=\"#lpg0300\"><strong>lpg0300</strong></a></li><li><a href=\"#lpg0301\"><strong>lpg0301</strong></a></li><li><a href=\"#lpg0305\"><strong>lpg0305</strong></a></li><li><a href=\"#lpg0306\"><strong>lpg0306</strong></a></li><li><a href=\"#lpg0307\"><strong>lpg0307</strong></a></li><li><a href=\"#lpg0314\"><strong>lpg0314</strong></a></li><li><a href=\"#lpg0316\"><strong>lpg0316</strong></a></li><li><a href=\"#lpg0317\"><strong>lpg0317</strong></a></li><li><a href=\"#lpg0318\"><strong>lpg0318</strong></a></li><li><a href=\"#lpg0319\"><strong>lpg0319</strong></a></li><li><a href=\"#lpg0320\"><strong>lpg0320</strong></a></li><li><a href=\"#lpg0321\"><strong>lpg0321</strong></a></li><li><a href=\"#lpg0322\"><strong>lpg0322</strong></a></li><li><a href=\"#lpg0323\"><strong>lpg0323</strong></a></li><li><a href=\"#lpg0324\"><strong>lpg0324</strong></a></li><li><a href=\"#lpg0325\"><strong>lpg0325</strong></a></li><li><a href=\"#lpg0326\"><strong>lpg0326</strong></a></li><li><a href=\"#lpg0327\"><strong>lpg0327</strong></a></li><li><a href=\"#lpg0328\"><strong>lpg0328</strong></a></li><li><a href=\"#lpg0329\"><strong>lpg0329</strong></a></li><li><a href=\"#lpg0330\"><strong>lpg0330</strong></a></li><li><a href=\"#lpg0331\"><strong>lpg0331</strong></a></li><li><a href=\"#lpg0332\"><strong>lpg0332</strong></a></li><li><a href=\"#lpg0333\"><strong>lpg0333</strong></a></li><li><a href=\"#lpg0334\"><strong>lpg0334</strong></a></li><li><a href=\"#lpg0335\"><strong>lpg0335</strong></a></li><li><a href=\"#lpg0336\"><strong>lpg0336</strong></a></li><li><a href=\"#lpg0337\"><strong>lpg0337</strong></a></li><li><a href=\"#lpg0338\"><strong>lpg0338</strong></a></li><li><a href=\"#lpg0339\"><strong>lpg0339</strong></a></li><li><a href=\"#lpg0340\"><strong>lpg0340</strong></a></li><li><a href=\"#lpg0341\"><strong>lpg0341</strong></a></li><li><a href=\"#lpg0342\"><strong>lpg0342</strong></a></li><li><a href=\"#lpg0343\"><strong>lpg0343</strong></a></li><li><a href=\"#lpg0344\"><strong>lpg0344</strong></a></li><li><a href=\"#lpg0345\"><strong>lpg0345</strong></a></li><li><a href=\"#lpg0346\"><strong>lpg0346</strong></a></li><li><a href=\"#lpg0347\"><strong>lpg0347</strong></a></li><li><a href=\"#lpg0348\"><strong>lpg0348</strong></a></li><li><a href=\"#lpg0349\"><strong>lpg0349</strong></a></li><li><a href=\"#lpg0350\"><strong>lpg0350</strong></a></li><li><a href=\"#lpg0351\"><strong>lpg0351</strong></a></li><li><a href=\"#lpg0352\"><strong>lpg0352</strong></a></li><li><a href=\"#lpg0353\"><strong>lpg0353</strong></a></li><li><a href=\"#lpg0354\"><strong>lpg0354</strong></a></li><li><a href=\"#lpg0355\"><strong>lpg0355</strong></a></li><li><a href=\"#lpg0356\"><strong>lpg0356</strong></a></li><li><a href=\"#lpg0357\"><strong>lpg0357</strong></a></li><li><a href=\"#lpg0358\"><strong>lpg0358</strong></a></li><li><a href=\"#lpg0359\"><strong>lpg0359</strong></a></li><li><a href=\"#lpg0360\"><strong>lpg0360</strong></a></li><li><a href=\"#lpg0361\"><strong>lpg0361</strong></a></li><li><a href=\"#lpg0362\"><strong>lpg0362</strong></a></li><li><a href=\"#lpg0363\"><strong>lpg0363</strong></a></li><li><a href=\"#lpg0364\"><strong>lpg0364</strong></a></li><li><a href=\"#lpg0365\"><strong>lpg0365</strong></a></li><li><a href=\"#lpg0366\"><strong>lpg0366</strong></a></li><li><a href=\"#lpg0367\"><strong>lpg0367</strong></a></li><li><a href=\"#lpg0368\"><strong>lpg0368</strong></a></li><li><a href=\"#lpg0369\"><strong>lpg0369</strong></a></li><li><a href=\"#lpg0370\"><strong>lpg0370</strong></a></li><li><a href=\"#lpg0371\"><strong>lpg0371</strong></a></li><li><a href=\"#lpg0372\"><strong>lpg0372</strong></a></li><li><a href=\"#lpg0373\"><strong>lpg0373</strong></a></li><li><a href=\"#lpg0374\"><strong>lpg0374</strong></a></li><li><a href=\"#lpg0375\"><strong>lpg0375</strong></a></li><li><a href=\"#lpg0376\"><strong>lpg0376</strong></a></li><li><a href=\"#lpg0377\"><strong>lpg0377</strong></a></li><li><a href=\"#lpg0378\"><strong>lpg0378</strong></a></li><li><a href=\"#lpg0379\"><strong>lpg0379</strong></a></li><li><a href=\"#lpg0380\"><strong>lpg0380</strong></a></li><li><a href=\"#lpg0381\"><strong>lpg0381</strong></a></li><li><a href=\"#lpg0382\"><strong>lpg0382</strong></a></li><li><a href=\"#lpg0383\"><strong>lpg0383</strong></a></li><li><a href=\"#lpg0384\"><strong>lpg0384</strong></a></li><li><a href=\"#lpg0385\"><strong>lpg0385</strong></a></li><li><a href=\"#lpg0386\"><strong>lpg0386</strong></a></li><li><a href=\"#lpg0387\"><strong>lpg0387</strong></a></li><li><a href=\"#lpg0388\"><strong>lpg0388</strong></a></li><li><a href=\"#lpg0389\"><strong>lpg0389</strong></a></li><li><a href=\"#lpg0390\"><strong>lpg0390</strong></a></li><li><a href=\"#lpg0391\"><strong>lpg0391</strong></a></li><li><a href=\"#lpg0392\"><strong>lpg0392</strong></a></li><li><a href=\"#lpg0393\"><strong>lpg0393</strong></a></li><li><a href=\"#lpg0394\"><strong>lpg0394</strong></a></li><li><a href=\"#lpg0395\"><strong>lpg0395</strong></a></li><li><a href=\"#lpg0396\"><strong>lpg0396</strong></a></li><li><a href=\"#lpg0397\"><strong>lpg0397</strong></a></li><li><a href=\"#lpg0398\"><strong>lpg0398</strong></a></li><li><a href=\"#lpg0399\"><strong>lpg0399</strong></a></li><li><a href=\"#lpg0400\"><strong>lpg0400</strong></a></li><li><a href=\"#lpg0401\"><strong>lpg0401</strong></a></li><li><a href=\"#lpg0402\"><strong>lpg0402</strong></a></li><li><a href=\"#lpg0403\"><strong>lpg0403</strong></a></li><li><a href=\"#lpg0404\"><strong>lpg0404</strong></a></li><li><a href=\"#lpg0405\"><strong>lpg0405</strong></a></li><li><a href=\"#lpg0406\"><strong>lpg0406</strong></a></li><li><a href=\"#lpg0407\"><strong>lpg0407</strong></a></li><li><a href=\"#lpg0408\"><strong>lpg0408</strong></a></li><li><a href=\"#lpg0409\"><strong>lpg0409</strong></a></li><li><a href=\"#lpg0410\"><strong>lpg0410</strong></a></li><li><a href=\"#lpg0411\"><strong>lpg0411</strong></a></li><li><a href=\"#lpg0412\"><strong>lpg0412</strong></a></li><li><a href=\"#lpg0413\"><strong>lpg0413</strong></a></li><li><a href=\"#lpg0414\"><strong>lpg0414</strong></a></li><li><a href=\"#lpg0415\"><strong>lpg0415</strong></a></li><li><a href=\"#lpg0416\"><strong>lpg0416</strong></a></li><li><a href=\"#lpg0417\"><strong>lpg0417</strong></a></li><li><a href=\"#lpg0418\"><strong>lpg0418</strong></a></li><li><a href=\"#lpg0419\"><strong>lpg0419</strong></a></li><li><a href=\"#lpg0420\"><strong>lpg0420</strong></a></li><li><a href=\"#lpg0421\"><strong>lpg0421</strong></a></li><li><a href=\"#lpg0422\"><strong>lpg0422</strong></a></li><li><a href=\"#lpg0423\"><strong>lpg0423</strong></a></li><li><a href=\"#lpg0424\"><strong>lpg0424</strong></a></li><li><a href=\"#lpg0425\"><strong>lpg0425</strong></a></li><li><a href=\"#lpg0426\"><strong>lpg0426</strong></a></li><li><a href=\"#lpg0427\"><strong>lpg0427</strong></a></li><li><a href=\"#lpg0428\"><strong>lpg0428</strong></a></li><li><a href=\"#lpg0429\"><strong>lpg0429</strong></a></li><li><a href=\"#lpg0430\"><strong>lpg0430</strong></a></li><li><a href=\"#lpg0431\"><strong>lpg0431</strong></a></li><li><a href=\"#lpg0432\"><strong>lpg0432</strong></a></li><li><a href=\"#lpg0433\"><strong>lpg0433</strong></a></li><li><a href=\"#lpg0434\"><strong>lpg0434</strong></a></li><li><a href=\"#lpg0435\"><strong>lpg0435</strong></a></li><li><a href=\"#lpg0436\"><strong>lpg0436</strong></a></li><li><a href=\"#lpg0437\"><strong>lpg0437</strong></a></li><li><a href=\"#lpg0438\"><strong>lpg0438</strong></a></li><li><a href=\"#lpg0439\"><strong>lpg0439</strong></a></li><li><a href=\"#lpg0440\"><strong>lpg0440</strong></a></li><li><a href=\"#lpg0441\"><strong>lpg0441</strong></a></li><li><a href=\"#lpg0442\"><strong>lpg0442</strong></a></li><li><a href=\"#lpg0443\"><strong>lpg0443</strong></a></li><li><a href=\"#lpg0444\"><strong>lpg0444</strong></a></li><li><a href=\"#lpg0445\"><strong>lpg0445</strong></a></li><li><a href=\"#lpg0446\"><strong>lpg0446</strong></a></li><li><a href=\"#lpg0447\"><strong>lpg0447</strong></a></li><li><a href=\"#lpg0448\"><strong>lpg0448</strong></a></li><li><a href=\"#lpg0449\"><strong>lpg0449</strong></a></li><li><a href=\"#lpg0450\"><strong>lpg0450</strong></a></li><li><a href=\"#lpg0451\"><strong>lpg0451</strong></a></li><li><a href=\"#lpg0452\"><strong>lpg0452</strong></a></li><li><a href=\"#lpg0453\"><strong>lpg0453</strong></a></li><li><a href=\"#lpg0454\"><strong>lpg0454</strong></a></li><li><a href=\"#lpg0455\"><strong>lpg0455</strong></a></li><li><a href=\"#lpg0456\"><strong>lpg0456</strong></a></li><li><a href=\"#lpg0457\"><strong>lpg0457</strong></a></li><li><a href=\"#lpg0458\"><strong>lpg0458</strong></a></li><li><a href=\"#lpg0459\"><strong>lpg0459</strong></a></li><li><a href=\"#lpg0460\"><strong>lpg0460</strong></a></li><li><a href=\"#lpg0461\"><strong>lpg0461</strong></a></li><li><a href=\"#lpg0462\"><strong>lpg0462</strong></a></li><li><a href=\"#lpg_3050\"><strong>lpg_3050</strong></a></li></ul></div>"
      ],
      "text/plain": [
       "<IPython.core.display.HTML object>"
      ]
     },
     "metadata": {},
     "output_type": "display_data"
    },
    {
     "data": {
      "text/html": [
       "<a name=\"lpg0232\"></a><h2>lpg0232 transcriptional regulator np20</h2>"
      ],
      "text/plain": [
       "<IPython.core.display.HTML object>"
      ]
     },
     "metadata": {},
     "output_type": "display_data"
    },
    {
     "data": {
      "text/html": [
       "<table border=\"1\" class=\"dataframe\">\n",
       "  <thead>\n",
       "    <tr style=\"text-align: right;\">\n",
       "      <th></th>\n",
       "      <th>uniprot_id</th>\n",
       "      <th>identity</th>\n",
       "      <th>score</th>\n",
       "      <th>evalue</th>\n",
       "      <th>status</th>\n",
       "      <th>molecular_functions</th>\n",
       "    </tr>\n",
       "  </thead>\n",
       "  <tbody>\n",
       "    <tr>\n",
       "      <th>0</th>\n",
       "      <td>G8US81</td>\n",
       "      <td>100.0%</td>\n",
       "      <td>949.0</td>\n",
       "      <td>2.496650e-128</td>\n",
       "      <td>unreviewed</td>\n",
       "      <td><div style=\"\"><ul><li>DNA binding</li><li>transcription factor activity, sequence-specific DNA binding</li></ul></div></td>\n",
       "    </tr>\n",
       "    <tr>\n",
       "      <th>1</th>\n",
       "      <td>Q5ZYX9</td>\n",
       "      <td>100.0%</td>\n",
       "      <td>948.0</td>\n",
       "      <td>3.311010e-128</td>\n",
       "      <td>unreviewed</td>\n",
       "      <td><div style=\"\"><ul><li>DNA binding</li><li>transcription factor activity, sequence-specific DNA binding</li></ul></div></td>\n",
       "    </tr>\n",
       "    <tr>\n",
       "      <th>2</th>\n",
       "      <td>A0A129BU56</td>\n",
       "      <td>98.9%</td>\n",
       "      <td>938.0</td>\n",
       "      <td>9.820510e-127</td>\n",
       "      <td>unreviewed</td>\n",
       "      <td><div style=\"\"><ul><li>DNA binding</li><li>transcription factor activity, sequence-specific DNA binding</li></ul></div></td>\n",
       "    </tr>\n",
       "    <tr>\n",
       "      <th>3</th>\n",
       "      <td>A0A182DGJ8</td>\n",
       "      <td>100.0%</td>\n",
       "      <td>795.0</td>\n",
       "      <td>2.038700e-105</td>\n",
       "      <td>unreviewed</td>\n",
       "      <td><div style=\"\"><ul><li>DNA binding</li><li>transcription factor activity, sequence-specific DNA binding</li></ul></div></td>\n",
       "    </tr>\n",
       "    <tr>\n",
       "      <th>4</th>\n",
       "      <td>Q5WZU6</td>\n",
       "      <td>99.3%</td>\n",
       "      <td>792.0</td>\n",
       "      <td>6.419330e-105</td>\n",
       "      <td>unreviewed</td>\n",
       "      <td><div style=\"\"><ul><li>DNA binding</li><li>transcription factor activity, sequence-specific DNA binding</li></ul></div></td>\n",
       "    </tr>\n",
       "    <tr>\n",
       "      <th>5</th>\n",
       "      <td>A0A193HI95</td>\n",
       "      <td>99.3%</td>\n",
       "      <td>792.0</td>\n",
       "      <td>6.419330e-105</td>\n",
       "      <td>unreviewed</td>\n",
       "      <td><div style=\"\"><ul></ul></div></td>\n",
       "    </tr>\n",
       "    <tr>\n",
       "      <th>6</th>\n",
       "      <td>A0A128LCR8</td>\n",
       "      <td>98.6%</td>\n",
       "      <td>789.0</td>\n",
       "      <td>1.753620e-104</td>\n",
       "      <td>unreviewed</td>\n",
       "      <td><div style=\"\"><ul><li>DNA binding</li><li>transcription factor activity, sequence-specific DNA binding</li></ul></div></td>\n",
       "    </tr>\n",
       "    <tr>\n",
       "      <th>7</th>\n",
       "      <td>A0A131BMT3</td>\n",
       "      <td>98.6%</td>\n",
       "      <td>788.0</td>\n",
       "      <td>2.774460e-104</td>\n",
       "      <td>unreviewed</td>\n",
       "      <td><div style=\"\"><ul><li>DNA binding</li><li>transcription factor activity, sequence-specific DNA binding</li></ul></div></td>\n",
       "    </tr>\n",
       "    <tr>\n",
       "      <th>8</th>\n",
       "      <td>A0A140J9F8</td>\n",
       "      <td>95.3%</td>\n",
       "      <td>767.0</td>\n",
       "      <td>4.366440e-101</td>\n",
       "      <td>unreviewed</td>\n",
       "      <td><div style=\"\"><ul><li>DNA binding</li><li>transcription factor activity, sequence-specific DNA binding</li></ul></div></td>\n",
       "    </tr>\n",
       "    <tr>\n",
       "      <th>9</th>\n",
       "      <td>A0A0W0VPN0</td>\n",
       "      <td>95.3%</td>\n",
       "      <td>764.0</td>\n",
       "      <td>1.205550e-100</td>\n",
       "      <td>unreviewed</td>\n",
       "      <td><div style=\"\"><ul><li>DNA binding</li><li>transcription factor activity, sequence-specific DNA binding</li></ul></div></td>\n",
       "    </tr>\n",
       "  </tbody>\n",
       "</table>"
      ],
      "text/plain": [
       "<IPython.core.display.HTML object>"
      ]
     },
     "metadata": {},
     "output_type": "display_data"
    },
    {
     "ename": "NameError",
     "evalue": "name 'results_with_functions' is not defined",
     "output_type": "error",
     "traceback": [
      "\u001b[0;31m---------------------------------------------------------------------------\u001b[0m",
      "\u001b[0;31mNameError\u001b[0m                                 Traceback (most recent call last)",
      "\u001b[0;32m<ipython-input-1-e21f384ece15>\u001b[0m in \u001b[0;36m<module>\u001b[0;34m()\u001b[0m\n\u001b[1;32m     83\u001b[0m             \u001b[0mdisplay\u001b[0m\u001b[0;34m(\u001b[0m\u001b[0mHTML\u001b[0m\u001b[0;34m(\u001b[0m\u001b[0mitemize\u001b[0m\u001b[0;34m(\u001b[0m\u001b[0minferred_functions\u001b[0m\u001b[0;34m)\u001b[0m\u001b[0;34m)\u001b[0m\u001b[0;34m)\u001b[0m\u001b[0;34m\u001b[0m\u001b[0m\n\u001b[1;32m     84\u001b[0m \u001b[0;34m\u001b[0m\u001b[0m\n\u001b[0;32m---> 85\u001b[0;31m \u001b[0mmain\u001b[0m\u001b[0;34m(\u001b[0m\u001b[0;34m)\u001b[0m\u001b[0;34m\u001b[0m\u001b[0m\n\u001b[0m",
      "\u001b[0;32m<ipython-input-1-e21f384ece15>\u001b[0m in \u001b[0;36mmain\u001b[0;34m()\u001b[0m\n\u001b[1;32m     80\u001b[0m \u001b[0;34m\u001b[0m\u001b[0m\n\u001b[1;32m     81\u001b[0m         \u001b[0minferred_functions\u001b[0m \u001b[0;34m=\u001b[0m \u001b[0minferred\u001b[0m\u001b[0;34m[\u001b[0m\u001b[0mtag\u001b[0m\u001b[0;34m]\u001b[0m\u001b[0;34m\u001b[0m\u001b[0m\n\u001b[0;32m---> 82\u001b[0;31m         \u001b[0;32mif\u001b[0m \u001b[0mlen\u001b[0m\u001b[0;34m(\u001b[0m\u001b[0mresults_with_functions\u001b[0m\u001b[0;34m)\u001b[0m \u001b[0;34m>\u001b[0m \u001b[0;36m0\u001b[0m\u001b[0;34m:\u001b[0m\u001b[0;34m\u001b[0m\u001b[0m\n\u001b[0m\u001b[1;32m     83\u001b[0m             \u001b[0mdisplay\u001b[0m\u001b[0;34m(\u001b[0m\u001b[0mHTML\u001b[0m\u001b[0;34m(\u001b[0m\u001b[0mitemize\u001b[0m\u001b[0;34m(\u001b[0m\u001b[0minferred_functions\u001b[0m\u001b[0;34m)\u001b[0m\u001b[0;34m)\u001b[0m\u001b[0;34m)\u001b[0m\u001b[0;34m\u001b[0m\u001b[0m\n\u001b[1;32m     84\u001b[0m \u001b[0;34m\u001b[0m\u001b[0m\n",
      "\u001b[0;31mNameError\u001b[0m: name 'results_with_functions' is not defined"
     ]
    }
   ],
   "source": [
    "import os, sys, inspect\n",
    "import pandas as pd\n",
    "from IPython.core.display import display, HTML\n",
    "\n",
    "def import_modules():\n",
    "    \"\"\"\n",
    "    Importar os módulos que desenvolvemos neste trabalho.\n",
    "    \"\"\"\n",
    "    current_dir = os.path.dirname(os.path.abspath(inspect.getfile(inspect.currentframe())))\n",
    "    parent_dir = os.path.dirname(current_dir)\n",
    "    sys.path.insert(0, parent_dir)\n",
    "    \n",
    "def bold_it(text, bold):\n",
    "    \"\"\"\n",
    "    Torna o texto bold se \"bold\" é True.\n",
    "    \"\"\"\n",
    "    if bold:\n",
    "        return \"<strong>\" + text + \"</strong>\"\n",
    "    else:\n",
    "        return text\n",
    "\n",
    "def link_it(href, text, link):\n",
    "    \"\"\"\n",
    "    Criar um link se \"link\" é True,\n",
    "    \"\"\"\n",
    "    if link:\n",
    "        return \"<a href=\\\"#\" + href + \"\\\">\" + text + \"</a>\"\n",
    "    else:\n",
    "        return text\n",
    "    \n",
    "def itemize(l, style=\"\", bold=False, link=False):\n",
    "    \"\"\"\n",
    "    Criar uma lista HTML dada uma lista.\n",
    "    \"\"\"\n",
    "    html = \"<div style=\\\"\" + style + \"\\\"><ul>\"\n",
    "    for i in l:\n",
    "        html += \"<li>\"\n",
    "        html += link_it(\n",
    "            i,\n",
    "            bold_it(i, bold),\n",
    "            link\n",
    "        )\n",
    "        html += \"</li>\"\n",
    "    html += \"</ul></div>\"\n",
    "    return html\n",
    "        \n",
    "\n",
    "def main():\n",
    "    import_modules()\n",
    "    import util.rw as rw\n",
    "\n",
    "    # não truncar informação\n",
    "    pd.set_option('display.max_colwidth', -1)\n",
    "\n",
    "    blast_results = rw.read_json(\"files/.blast_results.json\")\n",
    "    ncbi = rw.read_json(\"files/.ncbi.json\")\n",
    "    inferred = rw.read_json(\"files/.inferred.json\")\n",
    "    tags = sorted(blast_results.keys())\n",
    "    \n",
    "    # Mostrar lista de tags com links para os resultados\n",
    "    css = \"column-count:6\"\n",
    "    html = itemize(tags, css, bold=True, link=True)\n",
    "    display(HTML(html))\n",
    "  \n",
    "\n",
    "    for tag in tags:\n",
    "        # Título antes de cada tabela\n",
    "        product = ncbi[tag][\"product\"]\n",
    "        display(HTML(\"<a name=\\\"\" + tag + \"\\\"></a><h2>\" + tag + \" \" + product + \"</h2>\"))\n",
    "        \n",
    "        # Mostrar apenas o top 10\n",
    "        top_ten = blast_results[tag][0:10]\n",
    "        columns_to_show = [\"uniprot_id\", \"identity\", \"score\", \"evalue\", \"status\", \"molecular_functions\"]\n",
    "        \n",
    "        # Mostrar tabela\n",
    "        df = pd.DataFrame.from_dict(top_ten)\n",
    "        df[\"identity\"] = df[\"identity\"].apply(lambda i : str(round(i, 1)) + \"%\")\n",
    "        df[\"molecular_functions\"] = df[\"molecular_functions\"].apply(itemize)\n",
    "        display(HTML(df[columns_to_show].to_html(escape=False)))\n",
    "        \n",
    "        inferred_functions = inferred[tag]\n",
    "        if len(results_with_functions) > 0:\n",
    "            display(HTML(itemize(inferred_functions)))\n",
    "            \n",
    "main()"
   ]
  },
  {
   "cell_type": "code",
   "execution_count": null,
   "metadata": {
    "collapsed": true
   },
   "outputs": [],
   "source": []
  }
 ],
 "metadata": {
  "anaconda-cloud": {},
  "kernelspec": {
   "display_name": "Python [conda root]",
   "language": "python",
   "name": "conda-root-py"
  },
  "language_info": {
   "codemirror_mode": {
    "name": "ipython",
    "version": 3
   },
   "file_extension": ".py",
   "mimetype": "text/x-python",
   "name": "python",
   "nbconvert_exporter": "python",
   "pygments_lexer": "ipython3",
   "version": "3.5.2"
  }
 },
 "nbformat": 4,
 "nbformat_minor": 0
}
