{
 "cells": [
  {
   "cell_type": "markdown",
   "metadata": {},
   "source": [
    "## Conclusão\n",
    "\n",
    "A anotação genómica funcional tenta responder a questões acerca das funções do DNA ao nível dos genes, transcritos e produtos proteicos. A anotação genómica funcional da *Legionella Pneumophila subs. pneumophila estirpe Philadelphia 1*, realizada pelo grupo de trabalho, permitiu reunir informações (da zona do genoma em estudo) que descrevem as funções dos genes e proteinas, bem como interações existentes, por exemplo, ao nível metabólico, num só local.\n",
    "\n",
    "\n",
    "(Falar dos resultados obtidos quando tivermos tudo)\n",
    "Como curiosidade, na base de dados *Patrick* verificamos que três dos genes da nossa zona são homólogos de genes humanos, nomeadamente o lpg0314, lpg0327 e lpg0324.\n",
    "\n",
    "\n",
    "\n",
    "Ao longo da realização do trabalho utilizamos diversas bases de dados, o que nos permitiu alargar o nosso conhecimento sobre o seu funcionamento, o que se poderá revelar bastante útil em trabalhos futuros. Ainda, o facto de o grupo ser composto por elementos provenientes não só de mestrados diferentes, mas também com *backgrounds* académicos diferentes e, portanto, com conhecimentos em áreas distintas, permitiu enriquecer o conhecimento dos elementos do grupo nas áreas mais desconhecidas para cada um."
   ]
  }
 ],
 "metadata": {
  "anaconda-cloud": {},
  "kernelspec": {
   "display_name": "Python [conda root]",
   "language": "python",
   "name": "conda-root-py"
  },
  "language_info": {
   "codemirror_mode": {
    "name": "ipython",
    "version": 3
   },
   "file_extension": ".py",
   "mimetype": "text/x-python",
   "name": "python",
   "nbconvert_exporter": "python",
   "pygments_lexer": "ipython3",
   "version": "3.5.2"
  }
 },
 "nbformat": 4,
 "nbformat_minor": 0
}
