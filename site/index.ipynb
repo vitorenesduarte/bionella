{
 "cells": [
  {
   "cell_type": "markdown",
   "metadata": {},
   "source": [
    "# Índice\n",
    "\n",
    "1. [Introdução](legionella.html)\n",
    "2. [Análise da sequência e das features presentes no NCBI](ncbi.html)\n",
    "    1. [Resultados do NCBI](ncbi_results.html)\n",
    "3. [Análise de homologias por BLAST](blast.html)\n",
    "    1. [Resultados do BLAST](blast_results.html)\n",
    "4. [Ferramentas de análise das propriedades da proteína](uniprot.html)\n",
    "    1. [Resultados da UniProt](uniprot_results.html)\n",
    "    2. [Resultados do CDD](cdd_results.html)\n",
    "    3. [Resultados NCBI + UniProt](ncbi_uniprot_results.html)\n",
    "5. [Alinhamentos Múltiplos e Árvores Filogenéticas](alignments.html)\n",
    "6. [Vias Metabólicas e de Infeção](vias.html)\n",
    "7. [Transportadores e Fatores de Transcrição](transporters.html)\n",
    "8. [Conclusão](conclusion.html)\n",
    "\n",
    "#### Outros\n",
    "- [Módulo `util.rw`](rw.html)\n",
    "- [Módulo `util.util`](util.html)\n",
    "- [Serviços UniProt](uniprot_services.html)\n",
    "<!--- [Docker](docker.html)-->\n",
    "\n",
    "\n",
    "\n",
    "<center>\n",
    "<a target=\"_blank\" href=\"https://github.com/vitorenesduarte/bionella\">\n",
    "<img src=\"img/git.svg\" alt=\"Repositório GitHub\" height=\"30\" width=\"30\">\n",
    "</a>\n",
    "</center>"
   ]
  }
 ],
 "metadata": {
  "anaconda-cloud": {},
  "kernelspec": {
   "display_name": "Python [conda root]",
   "language": "python",
   "name": "conda-root-py"
  },
  "language_info": {
   "codemirror_mode": {
    "name": "ipython",
    "version": 3
   },
   "file_extension": ".py",
   "mimetype": "text/x-python",
   "name": "python",
   "nbconvert_exporter": "python",
   "pygments_lexer": "ipython3",
   "version": "3.5.2"
  }
 },
 "nbformat": 4,
 "nbformat_minor": 0
}
