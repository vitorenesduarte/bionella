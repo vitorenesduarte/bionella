{
 "cells": [
  {
   "cell_type": "markdown",
   "metadata": {},
   "source": [
    "# Índice\n",
    "\n",
    "1. [Introdução](legionella.html)\n",
    "2. [Análise da sequência e das features presentes no NCBI](ncbi.html)\n",
    "3. [Análise de homologias por BLAST](blast.html)\n",
    "4. [Vias Metabólicas e de Infeção](vias.html)\n",
    "5. [Transpotadores e Fatores de Transcrição](Transportadores.html)\n",
    "6. [Conclusão](Conclusion.html)\n",
    "\n",
    "#### Outros\n",
    "- [Módulo `util.rw`](rw.html)\n",
    "- [pandas](pandas.html)"
   ]
  }
 ],
 "metadata": {
  "anaconda-cloud": {},
  "kernelspec": {
   "display_name": "Python [conda root]",
   "language": "python",
   "name": "conda-root-py"
  },
  "language_info": {
   "codemirror_mode": {
    "name": "ipython",
    "version": 3
   },
   "file_extension": ".py",
   "mimetype": "text/x-python",
   "name": "python",
   "nbconvert_exporter": "python",
   "pygments_lexer": "ipython3",
   "version": "3.5.2"
  }
 },
 "nbformat": 4,
 "nbformat_minor": 0
}
