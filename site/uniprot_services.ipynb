{
 "cells": [
  {
   "cell_type": "markdown",
   "metadata": {},
   "source": [
    "## Serviços UniProt\n",
    "\n",
    "Neste trabalho utilizamos dois serviços disponibilizados pelo site UniProt:\n",
    "- serviço de mapeamento de identificadores\n",
    "- serviço de download de informação em _batch_\n",
    "\n",
    "1. [util.www.gene_ids_to_uniprot_ids(gene_ids)](#gene_ids_to_uniprot_ids)\n",
    "\n",
    "<a name=\"gene_ids_to_uniprot_ids\"></a>\n",
    "A UniProt oferece um serviço de mapeamento de identificadores entre diferentes bases de dados (mais informação [aqui](http://www.uniprot.org/help/programmatic_access)). Neste caso, mapeamos de _Entrez Gene (GeneID)_ (__P_ENTREZGENEID__) para _UniProtKB ID_ (__ID__).\n",
    "\n",
    "```python\n",
    "def gene_ids_to_uniprot_ids(ids):\n",
    "    \"\"\"\n",
    "    Mapeia a lista de gene ids passada como argumento para uniprot ids.\n",
    "    Retorna um dictionário em que as chaves são gene_id e os valores\n",
    "    são uniprot_id.\n",
    "    \"\"\"\n",
    "\n",
    "    url = \"http://www.uniprot.org/mapping/\"\n",
    "    query = \" \".join(ids)\n",
    "\n",
    "    data = {\n",
    "        \"format\": \"tab\",\n",
    "        \"from\": \"P_ENTREZGENEID\",\n",
    "        \"to\": \"ACC\",\n",
    "        \"query\": query\n",
    "    }\n",
    "\n",
    "    # HTTP POST\n",
    "    response = requests.post(\n",
    "        url,\n",
    "        data=data\n",
    "    )\n",
    "\n",
    "    result = {}\n",
    "\n",
    "    # ignorar a primeira linha\n",
    "    for row in response.text.splitlines()[1:]:\n",
    "        gene_id, uniprot_id = row.split(\"\\t\")\n",
    "\n",
    "        result[gene_id] = uniprot_id\n",
    "\n",
    "    return result\n",
    "```\n"
   ]
  },
  {
   "cell_type": "markdown",
   "metadata": {},
   "source": []
  },
  {
   "cell_type": "markdown",
   "metadata": {},
   "source": []
  },
  {
   "cell_type": "markdown",
   "metadata": {},
   "source": []
  },
  {
   "cell_type": "markdown",
   "metadata": {},
   "source": []
  },
  {
   "cell_type": "markdown",
   "metadata": {},
   "source": []
  }
 ],
 "metadata": {
  "anaconda-cloud": {},
  "kernelspec": {
   "display_name": "Python [conda root]",
   "language": "python",
   "name": "conda-root-py"
  },
  "language_info": {
   "codemirror_mode": {
    "name": "ipython",
    "version": 3
   },
   "file_extension": ".py",
   "mimetype": "text/x-python",
   "name": "python",
   "nbconvert_exporter": "python",
   "pygments_lexer": "ipython3",
   "version": "3.5.2"
  }
 },
 "nbformat": 4,
 "nbformat_minor": 0
}
