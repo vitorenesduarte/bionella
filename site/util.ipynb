{
 "cells": [
  {
   "cell_type": "markdown",
   "metadata": {},
   "source": [
    "## Módulo util.util\n",
    "\n",
    "1. [md5(string)](#md5)\n",
    "2. [get_tags_and_proteins(dictionary)](#get_tags_and_proteins)\n",
    "\n",
    "\n",
    "Este módulo tem duas funções:\n",
    "- `md5`: retorna uma hash da string passada como argumento\n",
    "- `get_tags_and_proteins`: dado um dicionário com __locus_tag__ como chaves e dicionários como valores (em que uma das chaves desses dicionários é __translation__), retorna uma lista de pares (__locus_tag__, __translation__)"
   ]
  },
  {
   "cell_type": "markdown",
   "metadata": {},
   "source": [
    "<a name=\"md5\"></a>\n",
    "```python\n",
    "import hashlib\n",
    "\n",
    "def md5(string):\n",
    "    \"\"\"\n",
    "    Retorna a hash da string passada como argumento.\n",
    "    \"\"\"\n",
    "    return hashlib.md5(string.encode(\"utf-8\")).hexdigest()\n",
    "```"
   ]
  },
  {
   "cell_type": "markdown",
   "metadata": {},
   "source": [
    "<a name=\"get_tags_and_proteins\"></a>\n",
    "```python\n",
    "def get_tags_and_proteins(dictionary):\n",
    "    \"\"\"\n",
    "    Esta função retorna uma lista de pares\n",
    "    em que a primeira componente é a tag\n",
    "    e a segunda a sequência de aminoácidos.\n",
    "    \"\"\"\n",
    "\n",
    "    tags_and_proteins = []\n",
    "\n",
    "    for tag in dictionary:\n",
    "        if dictionary[tag][\"type\"] == \"mRNA\":\n",
    "            # se for do tipo \"mRNA\" estamos na presença de uma proteína\n",
    "            protein = dictionary[tag][\"translation\"]\n",
    "            both = (tag, protein)\n",
    "            tags_and_proteins.append(both)\n",
    "\n",
    "    return sorted(tags_and_proteins, key=lambda tp : tp[0])\n",
    "```"
   ]
  }
 ],
 "metadata": {
  "anaconda-cloud": {},
  "kernelspec": {
   "display_name": "Python [conda root]",
   "language": "python",
   "name": "conda-root-py"
  },
  "language_info": {
   "codemirror_mode": {
    "name": "ipython",
    "version": 3
   },
   "file_extension": ".py",
   "mimetype": "text/x-python",
   "name": "python",
   "nbconvert_exporter": "python",
   "pygments_lexer": "ipython3",
   "version": "3.5.2"
  }
 },
 "nbformat": 4,
 "nbformat_minor": 0
}
